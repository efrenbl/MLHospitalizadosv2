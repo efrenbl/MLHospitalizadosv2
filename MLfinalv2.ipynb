{
 "cells": [
  {
   "cell_type": "code",
   "execution_count": 1,
   "metadata": {},
   "outputs": [],
   "source": [
    "#importamos librerías\n",
    "import numpy as np\n",
    "import pandas as pd\n",
    "import matplotlib.pyplot as plt\n",
    "import seaborn as sns"
   ]
  },
  {
   "cell_type": "code",
   "execution_count": 2,
   "metadata": {},
   "outputs": [
    {
     "data": {
      "text/html": [
       "<div>\n",
       "<style scoped>\n",
       "    .dataframe tbody tr th:only-of-type {\n",
       "        vertical-align: middle;\n",
       "    }\n",
       "\n",
       "    .dataframe tbody tr th {\n",
       "        vertical-align: top;\n",
       "    }\n",
       "\n",
       "    .dataframe thead th {\n",
       "        text-align: right;\n",
       "    }\n",
       "</style>\n",
       "<table border=\"1\" class=\"dataframe\">\n",
       "  <thead>\n",
       "    <tr style=\"text-align: right;\">\n",
       "      <th></th>\n",
       "      <th>CAUSA SINIESTRO</th>\n",
       "      <th>TIPO VEHICULO</th>\n",
       "      <th>NIVEL Daño VEHICULO</th>\n",
       "      <th>PUNTO DE IMPACTO</th>\n",
       "      <th>MES</th>\n",
       "      <th>Daño NUMERO</th>\n",
       "      <th>DIA</th>\n",
       "      <th>HORA</th>\n",
       "      <th>ESTADO</th>\n",
       "      <th>CIUDAD</th>\n",
       "      <th>...</th>\n",
       "      <th>VOLCADURA</th>\n",
       "      <th>PERDIDA TOTAL</th>\n",
       "      <th>CONDUCTOR DISTRAIDO</th>\n",
       "      <th>FUGA</th>\n",
       "      <th>ALCOHOL</th>\n",
       "      <th>MOTOCICLETA</th>\n",
       "      <th>BICICLETA</th>\n",
       "      <th>SEGURO</th>\n",
       "      <th>TAXI</th>\n",
       "      <th>ANIMAL</th>\n",
       "    </tr>\n",
       "  </thead>\n",
       "  <tbody>\n",
       "    <tr>\n",
       "      <th>0</th>\n",
       "      <td>COLISION Y/O VUELCO</td>\n",
       "      <td>Auto</td>\n",
       "      <td>Bajo</td>\n",
       "      <td>Trasero</td>\n",
       "      <td>ENERO</td>\n",
       "      <td>1</td>\n",
       "      <td>LUNES</td>\n",
       "      <td>3</td>\n",
       "      <td>GUERRERO</td>\n",
       "      <td>ACAPULCO DE JUAREZ</td>\n",
       "      <td>...</td>\n",
       "      <td>NaN</td>\n",
       "      <td>NaN</td>\n",
       "      <td>NaN</td>\n",
       "      <td>1.0</td>\n",
       "      <td>NaN</td>\n",
       "      <td>NaN</td>\n",
       "      <td>NaN</td>\n",
       "      <td>NaN</td>\n",
       "      <td>NaN</td>\n",
       "      <td>NaN</td>\n",
       "    </tr>\n",
       "    <tr>\n",
       "      <th>1</th>\n",
       "      <td>COLISION Y/O VUELCO</td>\n",
       "      <td>Auto</td>\n",
       "      <td>Bajo</td>\n",
       "      <td>Frontal</td>\n",
       "      <td>ENERO</td>\n",
       "      <td>1</td>\n",
       "      <td>LUNES</td>\n",
       "      <td>10</td>\n",
       "      <td>GUERRERO</td>\n",
       "      <td>ACAPULCO DE JUAREZ</td>\n",
       "      <td>...</td>\n",
       "      <td>NaN</td>\n",
       "      <td>NaN</td>\n",
       "      <td>NaN</td>\n",
       "      <td>NaN</td>\n",
       "      <td>NaN</td>\n",
       "      <td>NaN</td>\n",
       "      <td>NaN</td>\n",
       "      <td>NaN</td>\n",
       "      <td>NaN</td>\n",
       "      <td>NaN</td>\n",
       "    </tr>\n",
       "    <tr>\n",
       "      <th>2</th>\n",
       "      <td>COLISION Y/O VUELCO</td>\n",
       "      <td>Auto</td>\n",
       "      <td>Bajo</td>\n",
       "      <td>Frontal</td>\n",
       "      <td>ENERO</td>\n",
       "      <td>1</td>\n",
       "      <td>LUNES</td>\n",
       "      <td>11</td>\n",
       "      <td>GUERRERO</td>\n",
       "      <td>ZIHUATANEJO DE AZUETA</td>\n",
       "      <td>...</td>\n",
       "      <td>NaN</td>\n",
       "      <td>NaN</td>\n",
       "      <td>NaN</td>\n",
       "      <td>NaN</td>\n",
       "      <td>NaN</td>\n",
       "      <td>NaN</td>\n",
       "      <td>NaN</td>\n",
       "      <td>NaN</td>\n",
       "      <td>NaN</td>\n",
       "      <td>NaN</td>\n",
       "    </tr>\n",
       "    <tr>\n",
       "      <th>3</th>\n",
       "      <td>COLISION Y/O VUELCO</td>\n",
       "      <td>Auto</td>\n",
       "      <td>Bajo</td>\n",
       "      <td>Costado izq central</td>\n",
       "      <td>ENERO</td>\n",
       "      <td>1</td>\n",
       "      <td>LUNES</td>\n",
       "      <td>11</td>\n",
       "      <td>GUERRERO</td>\n",
       "      <td>ZIHUATANEJO DE AZUETA</td>\n",
       "      <td>...</td>\n",
       "      <td>NaN</td>\n",
       "      <td>NaN</td>\n",
       "      <td>NaN</td>\n",
       "      <td>NaN</td>\n",
       "      <td>NaN</td>\n",
       "      <td>NaN</td>\n",
       "      <td>NaN</td>\n",
       "      <td>NaN</td>\n",
       "      <td>NaN</td>\n",
       "      <td>NaN</td>\n",
       "    </tr>\n",
       "    <tr>\n",
       "      <th>4</th>\n",
       "      <td>COLISION Y/O VUELCO</td>\n",
       "      <td>Auto</td>\n",
       "      <td>Bajo</td>\n",
       "      <td>Trasero</td>\n",
       "      <td>ENERO</td>\n",
       "      <td>1</td>\n",
       "      <td>LUNES</td>\n",
       "      <td>11</td>\n",
       "      <td>GUERRERO</td>\n",
       "      <td>CHILPANCINGO DE LOS BRAVO</td>\n",
       "      <td>...</td>\n",
       "      <td>NaN</td>\n",
       "      <td>NaN</td>\n",
       "      <td>NaN</td>\n",
       "      <td>NaN</td>\n",
       "      <td>NaN</td>\n",
       "      <td>NaN</td>\n",
       "      <td>NaN</td>\n",
       "      <td>NaN</td>\n",
       "      <td>NaN</td>\n",
       "      <td>NaN</td>\n",
       "    </tr>\n",
       "  </tbody>\n",
       "</table>\n",
       "<p>5 rows × 35 columns</p>\n",
       "</div>"
      ],
      "text/plain": [
       "       CAUSA SINIESTRO TIPO VEHICULO NIVEL Daño VEHICULO     PUNTO DE IMPACTO  \\\n",
       "0  COLISION Y/O VUELCO          Auto                Bajo              Trasero   \n",
       "1  COLISION Y/O VUELCO          Auto                Bajo              Frontal   \n",
       "2  COLISION Y/O VUELCO          Auto                Bajo              Frontal   \n",
       "3  COLISION Y/O VUELCO          Auto                Bajo  Costado izq central   \n",
       "4  COLISION Y/O VUELCO          Auto                Bajo              Trasero   \n",
       "\n",
       "     MES  Daño NUMERO    DIA  HORA    ESTADO                     CIUDAD  ...  \\\n",
       "0  ENERO            1  LUNES     3  GUERRERO         ACAPULCO DE JUAREZ  ...   \n",
       "1  ENERO            1  LUNES    10  GUERRERO         ACAPULCO DE JUAREZ  ...   \n",
       "2  ENERO            1  LUNES    11  GUERRERO      ZIHUATANEJO DE AZUETA  ...   \n",
       "3  ENERO            1  LUNES    11  GUERRERO      ZIHUATANEJO DE AZUETA  ...   \n",
       "4  ENERO            1  LUNES    11  GUERRERO  CHILPANCINGO DE LOS BRAVO  ...   \n",
       "\n",
       "   VOLCADURA PERDIDA TOTAL  CONDUCTOR DISTRAIDO FUGA ALCOHOL MOTOCICLETA  \\\n",
       "0        NaN           NaN                  NaN  1.0     NaN         NaN   \n",
       "1        NaN           NaN                  NaN  NaN     NaN         NaN   \n",
       "2        NaN           NaN                  NaN  NaN     NaN         NaN   \n",
       "3        NaN           NaN                  NaN  NaN     NaN         NaN   \n",
       "4        NaN           NaN                  NaN  NaN     NaN         NaN   \n",
       "\n",
       "  BICICLETA  SEGURO  TAXI  ANIMAL  \n",
       "0       NaN     NaN   NaN     NaN  \n",
       "1       NaN     NaN   NaN     NaN  \n",
       "2       NaN     NaN   NaN     NaN  \n",
       "3       NaN     NaN   NaN     NaN  \n",
       "4       NaN     NaN   NaN     NaN  \n",
       "\n",
       "[5 rows x 35 columns]"
      ]
     },
     "execution_count": 2,
     "metadata": {},
     "output_type": "execute_result"
    }
   ],
   "source": [
    "#Leemos datos de archivo\n",
    "#Fuente\n",
    "data1 = pd.read_csv('dataaxa2.csv')\n",
    "data1.head()\n",
    "#Pintamos data"
   ]
  },
  {
   "cell_type": "code",
   "execution_count": 3,
   "metadata": {},
   "outputs": [],
   "source": [
    "#Eliminamos datos vacios de nuestras variables a usar \n",
    "data2=data1.dropna(subset=['CAUSA SINIESTRO', 'TIPO VEHICULO', 'NIVEL Daño VEHICULO', 'PUNTO DE IMPACTO' ])"
   ]
  },
  {
   "cell_type": "code",
   "execution_count": 4,
   "metadata": {},
   "outputs": [
    {
     "data": {
      "text/plain": [
       "NO    145438\n",
       "SI     13659\n",
       "Name: HOSPITALIZADO, dtype: int64"
      ]
     },
     "execution_count": 4,
     "metadata": {},
     "output_type": "execute_result"
    }
   ],
   "source": [
    "data2[\"HOSPITALIZADO\"].value_counts()\n",
    "#pd.value_counts(data1['CAUSA SINIESTRO']).plot.bar()\n",
    "#pd.value_counts(data1['TIPO VEHICULO']).plot.bar()\n",
    "#pd.value_counts(data1['NIVEL Daño VEHICULO']).plot.bar()\n",
    "#pd.value_counts(data1['PUNTO DE IMPACTO']).plot.bar()"
   ]
  },
  {
   "cell_type": "code",
   "execution_count": 5,
   "metadata": {},
   "outputs": [
    {
     "data": {
      "text/plain": [
       "<matplotlib.axes._subplots.AxesSubplot at 0x1b7095bf470>"
      ]
     },
     "execution_count": 5,
     "metadata": {},
     "output_type": "execute_result"
    },
    {
     "data": {
      "image/png": "[encoded data removed]",
      "text/plain": [
       "<Figure size 432x288 with 1 Axes>"
      ]
     },
     "metadata": {
      "needs_background": "light"
     },
     "output_type": "display_data"
    }
   ],
   "source": [
    "pd.value_counts(data2['HOSPITALIZADO']).plot.bar()"
   ]
  },
  {
   "cell_type": "code",
   "execution_count": 6,
   "metadata": {},
   "outputs": [],
   "source": [
    "#Para reemplazar Si y no en la columna de hospitalización\n",
    "nums = {\"HOSPITALIZADO\": {\"SI\": 1, \"NO\": 0, }}"
   ]
  },
  {
   "cell_type": "code",
   "execution_count": 7,
   "metadata": {},
   "outputs": [
    {
     "name": "stderr",
     "output_type": "stream",
     "text": [
      "C:\\Users\\MB87505\\AppData\\Local\\Continuum\\anaconda3\\lib\\site-packages\\pandas\\core\\generic.py:6517: SettingWithCopyWarning: \n",
      "A value is trying to be set on a copy of a slice from a DataFrame.\n",
      "Try using .loc[row_indexer,col_indexer] = value instead\n",
      "\n",
      "See the caveats in the documentation: http://pandas.pydata.org/pandas-docs/stable/indexing.html#indexing-view-versus-copy\n",
      "  regex=regex)\n"
     ]
    }
   ],
   "source": [
    "#Reemplazamos por números \n",
    "data2.replace(nums, inplace=True)"
   ]
  },
  {
   "cell_type": "code",
   "execution_count": 8,
   "metadata": {},
   "outputs": [],
   "source": [
    "df_majority = data2[data2.HOSPITALIZADO==0]\n",
    "df_minority = data2[data2.HOSPITALIZADO==1]"
   ]
  },
  {
   "cell_type": "code",
   "execution_count": 9,
   "metadata": {},
   "outputs": [],
   "source": [
    "from sklearn.utils import resample\n",
    "# Upsample minority class\n",
    "df_minority_upsampled = resample(df_minority, \n",
    "                                 replace=True,     # sample with replacement\n",
    "                                 n_samples=145438,    # to match majority class\n",
    "                                 random_state=123) # reproducible results\n",
    " \n",
    "# Combine majority class with upsampled minority class\n",
    "data2 = pd.concat([df_majority, df_minority_upsampled])"
   ]
  },
  {
   "cell_type": "code",
   "execution_count": 10,
   "metadata": {},
   "outputs": [
    {
     "data": {
      "text/plain": [
       "1    145438\n",
       "0    145438\n",
       "Name: HOSPITALIZADO, dtype: int64"
      ]
     },
     "execution_count": 10,
     "metadata": {},
     "output_type": "execute_result"
    }
   ],
   "source": [
    "# Display new class counts\n",
    "data2.HOSPITALIZADO.value_counts()"
   ]
  },
  {
   "cell_type": "code",
   "execution_count": 11,
   "metadata": {},
   "outputs": [
    {
     "data": {
      "text/plain": [
       "<matplotlib.axes._subplots.AxesSubplot at 0x1b70a815f98>"
      ]
     },
     "execution_count": 11,
     "metadata": {},
     "output_type": "execute_result"
    },
    {
     "data": {
      "image/png": "[encoded data removed]",
      "text/plain": [
       "<Figure size 432x288 with 1 Axes>"
      ]
     },
     "metadata": {
      "needs_background": "light"
     },
     "output_type": "display_data"
    }
   ],
   "source": [
    "pd.value_counts(data2['HOSPITALIZADO']).plot.bar()"
   ]
  },
  {
   "cell_type": "code",
   "execution_count": 12,
   "metadata": {},
   "outputs": [
    {
     "data": {
      "text/html": [
       "<div>\n",
       "<style scoped>\n",
       "    .dataframe tbody tr th:only-of-type {\n",
       "        vertical-align: middle;\n",
       "    }\n",
       "\n",
       "    .dataframe tbody tr th {\n",
       "        vertical-align: top;\n",
       "    }\n",
       "\n",
       "    .dataframe thead th {\n",
       "        text-align: right;\n",
       "    }\n",
       "</style>\n",
       "<table border=\"1\" class=\"dataframe\">\n",
       "  <thead>\n",
       "    <tr style=\"text-align: right;\">\n",
       "      <th></th>\n",
       "      <th>Daño NUMERO</th>\n",
       "      <th>HORA</th>\n",
       "      <th>LESIONADOS</th>\n",
       "      <th>EDAD LESIONADO</th>\n",
       "      <th>HOSPITALIZADO</th>\n",
       "      <th>AMBULANCIA</th>\n",
       "      <th>ARBOL</th>\n",
       "      <th>PIEDRA</th>\n",
       "      <th>DORMIDO</th>\n",
       "      <th>GRUA</th>\n",
       "      <th>...</th>\n",
       "      <th>GENERO LESIONADO_F</th>\n",
       "      <th>GENERO LESIONADO_Indefinido</th>\n",
       "      <th>GENERO LESIONADO_M</th>\n",
       "      <th>NIVEL LESIONADO_ALTO</th>\n",
       "      <th>NIVEL LESIONADO_BAJO</th>\n",
       "      <th>NIVEL LESIONADO_MEDIO</th>\n",
       "      <th>NIVEL LESIONADO_\\N</th>\n",
       "      <th>FALLECIDO_NO</th>\n",
       "      <th>FALLECIDO_SI</th>\n",
       "      <th>FALLECIDO_\\N</th>\n",
       "    </tr>\n",
       "  </thead>\n",
       "  <tbody>\n",
       "    <tr>\n",
       "      <th>0</th>\n",
       "      <td>1</td>\n",
       "      <td>3</td>\n",
       "      <td>0</td>\n",
       "      <td>0</td>\n",
       "      <td>0</td>\n",
       "      <td>NaN</td>\n",
       "      <td>NaN</td>\n",
       "      <td>NaN</td>\n",
       "      <td>NaN</td>\n",
       "      <td>NaN</td>\n",
       "      <td>...</td>\n",
       "      <td>0</td>\n",
       "      <td>0</td>\n",
       "      <td>0</td>\n",
       "      <td>0</td>\n",
       "      <td>0</td>\n",
       "      <td>0</td>\n",
       "      <td>1</td>\n",
       "      <td>0</td>\n",
       "      <td>0</td>\n",
       "      <td>1</td>\n",
       "    </tr>\n",
       "    <tr>\n",
       "      <th>1</th>\n",
       "      <td>1</td>\n",
       "      <td>10</td>\n",
       "      <td>0</td>\n",
       "      <td>0</td>\n",
       "      <td>0</td>\n",
       "      <td>NaN</td>\n",
       "      <td>NaN</td>\n",
       "      <td>NaN</td>\n",
       "      <td>NaN</td>\n",
       "      <td>NaN</td>\n",
       "      <td>...</td>\n",
       "      <td>0</td>\n",
       "      <td>0</td>\n",
       "      <td>0</td>\n",
       "      <td>0</td>\n",
       "      <td>0</td>\n",
       "      <td>0</td>\n",
       "      <td>1</td>\n",
       "      <td>0</td>\n",
       "      <td>0</td>\n",
       "      <td>1</td>\n",
       "    </tr>\n",
       "    <tr>\n",
       "      <th>2</th>\n",
       "      <td>1</td>\n",
       "      <td>11</td>\n",
       "      <td>0</td>\n",
       "      <td>0</td>\n",
       "      <td>0</td>\n",
       "      <td>NaN</td>\n",
       "      <td>NaN</td>\n",
       "      <td>NaN</td>\n",
       "      <td>NaN</td>\n",
       "      <td>NaN</td>\n",
       "      <td>...</td>\n",
       "      <td>0</td>\n",
       "      <td>0</td>\n",
       "      <td>0</td>\n",
       "      <td>0</td>\n",
       "      <td>0</td>\n",
       "      <td>0</td>\n",
       "      <td>1</td>\n",
       "      <td>0</td>\n",
       "      <td>0</td>\n",
       "      <td>1</td>\n",
       "    </tr>\n",
       "    <tr>\n",
       "      <th>3</th>\n",
       "      <td>1</td>\n",
       "      <td>11</td>\n",
       "      <td>0</td>\n",
       "      <td>0</td>\n",
       "      <td>0</td>\n",
       "      <td>NaN</td>\n",
       "      <td>NaN</td>\n",
       "      <td>NaN</td>\n",
       "      <td>NaN</td>\n",
       "      <td>NaN</td>\n",
       "      <td>...</td>\n",
       "      <td>0</td>\n",
       "      <td>0</td>\n",
       "      <td>0</td>\n",
       "      <td>0</td>\n",
       "      <td>0</td>\n",
       "      <td>0</td>\n",
       "      <td>1</td>\n",
       "      <td>0</td>\n",
       "      <td>0</td>\n",
       "      <td>1</td>\n",
       "    </tr>\n",
       "    <tr>\n",
       "      <th>4</th>\n",
       "      <td>1</td>\n",
       "      <td>11</td>\n",
       "      <td>0</td>\n",
       "      <td>0</td>\n",
       "      <td>0</td>\n",
       "      <td>NaN</td>\n",
       "      <td>NaN</td>\n",
       "      <td>NaN</td>\n",
       "      <td>NaN</td>\n",
       "      <td>NaN</td>\n",
       "      <td>...</td>\n",
       "      <td>0</td>\n",
       "      <td>0</td>\n",
       "      <td>0</td>\n",
       "      <td>0</td>\n",
       "      <td>0</td>\n",
       "      <td>0</td>\n",
       "      <td>1</td>\n",
       "      <td>0</td>\n",
       "      <td>0</td>\n",
       "      <td>1</td>\n",
       "    </tr>\n",
       "  </tbody>\n",
       "</table>\n",
       "<p>5 rows × 1421 columns</p>\n",
       "</div>"
      ],
      "text/plain": [
       "   Daño NUMERO  HORA  LESIONADOS  EDAD LESIONADO  HOSPITALIZADO  AMBULANCIA  \\\n",
       "0            1     3           0               0              0         NaN   \n",
       "1            1    10           0               0              0         NaN   \n",
       "2            1    11           0               0              0         NaN   \n",
       "3            1    11           0               0              0         NaN   \n",
       "4            1    11           0               0              0         NaN   \n",
       "\n",
       "   ARBOL  PIEDRA  DORMIDO  GRUA  ...  GENERO LESIONADO_F  \\\n",
       "0    NaN     NaN      NaN   NaN  ...                   0   \n",
       "1    NaN     NaN      NaN   NaN  ...                   0   \n",
       "2    NaN     NaN      NaN   NaN  ...                   0   \n",
       "3    NaN     NaN      NaN   NaN  ...                   0   \n",
       "4    NaN     NaN      NaN   NaN  ...                   0   \n",
       "\n",
       "   GENERO LESIONADO_Indefinido  GENERO LESIONADO_M  NIVEL LESIONADO_ALTO  \\\n",
       "0                            0                   0                     0   \n",
       "1                            0                   0                     0   \n",
       "2                            0                   0                     0   \n",
       "3                            0                   0                     0   \n",
       "4                            0                   0                     0   \n",
       "\n",
       "   NIVEL LESIONADO_BAJO  NIVEL LESIONADO_MEDIO  NIVEL LESIONADO_\\N  \\\n",
       "0                     0                      0                   1   \n",
       "1                     0                      0                   1   \n",
       "2                     0                      0                   1   \n",
       "3                     0                      0                   1   \n",
       "4                     0                      0                   1   \n",
       "\n",
       "   FALLECIDO_NO  FALLECIDO_SI  FALLECIDO_\\N  \n",
       "0             0             0             1  \n",
       "1             0             0             1  \n",
       "2             0             0             1  \n",
       "3             0             0             1  \n",
       "4             0             0             1  \n",
       "\n",
       "[5 rows x 1421 columns]"
      ]
     },
     "execution_count": 12,
     "metadata": {},
     "output_type": "execute_result"
    }
   ],
   "source": [
    "#conversión de respuestas de columnas a binario\n",
    "data = pd.get_dummies(data2)\n",
    "data.head()"
   ]
  },
  {
   "cell_type": "code",
   "execution_count": 13,
   "metadata": {},
   "outputs": [
    {
     "data": {
      "text/html": [
       "<div>\n",
       "<style scoped>\n",
       "    .dataframe tbody tr th:only-of-type {\n",
       "        vertical-align: middle;\n",
       "    }\n",
       "\n",
       "    .dataframe tbody tr th {\n",
       "        vertical-align: top;\n",
       "    }\n",
       "\n",
       "    .dataframe thead th {\n",
       "        text-align: right;\n",
       "    }\n",
       "</style>\n",
       "<table border=\"1\" class=\"dataframe\">\n",
       "  <thead>\n",
       "    <tr style=\"text-align: right;\">\n",
       "      <th></th>\n",
       "      <th>CAUSA SINIESTRO_ATROPELLO</th>\n",
       "      <th>CAUSA SINIESTRO_COLISION Y/O VUELCO</th>\n",
       "      <th>CAUSA SINIESTRO_DANOS POR LA CARGA</th>\n",
       "      <th>CAUSA SINIESTRO_FENOMENOS DE LA NATURALEZA</th>\n",
       "      <th>CAUSA SINIESTRO_HUELGAS Y ALBOROTOS</th>\n",
       "      <th>CAUSA SINIESTRO_INCENDIO RAYO O EXPLOSION</th>\n",
       "      <th>CAUSA SINIESTRO_TRANSPORTACION</th>\n",
       "      <th>TIPO VEHICULO_Auto</th>\n",
       "      <th>TIPO VEHICULO_Camion</th>\n",
       "      <th>TIPO VEHICULO_Camion Ligero</th>\n",
       "      <th>...</th>\n",
       "      <th>PUNTO DE IMPACTO_Costado der central</th>\n",
       "      <th>PUNTO DE IMPACTO_Costado der delantero</th>\n",
       "      <th>PUNTO DE IMPACTO_Costado der trasero</th>\n",
       "      <th>PUNTO DE IMPACTO_Costado izq central</th>\n",
       "      <th>PUNTO DE IMPACTO_Costado izq delantero</th>\n",
       "      <th>PUNTO DE IMPACTO_Costado izq trasero</th>\n",
       "      <th>PUNTO DE IMPACTO_Frontal</th>\n",
       "      <th>PUNTO DE IMPACTO_Parte baja</th>\n",
       "      <th>PUNTO DE IMPACTO_Tapa cajuela</th>\n",
       "      <th>PUNTO DE IMPACTO_Toldo</th>\n",
       "    </tr>\n",
       "  </thead>\n",
       "  <tbody>\n",
       "    <tr>\n",
       "      <th>0</th>\n",
       "      <td>0</td>\n",
       "      <td>1</td>\n",
       "      <td>0</td>\n",
       "      <td>0</td>\n",
       "      <td>0</td>\n",
       "      <td>0</td>\n",
       "      <td>0</td>\n",
       "      <td>1</td>\n",
       "      <td>0</td>\n",
       "      <td>0</td>\n",
       "      <td>...</td>\n",
       "      <td>0</td>\n",
       "      <td>0</td>\n",
       "      <td>0</td>\n",
       "      <td>0</td>\n",
       "      <td>0</td>\n",
       "      <td>0</td>\n",
       "      <td>0</td>\n",
       "      <td>0</td>\n",
       "      <td>0</td>\n",
       "      <td>0</td>\n",
       "    </tr>\n",
       "    <tr>\n",
       "      <th>1</th>\n",
       "      <td>0</td>\n",
       "      <td>1</td>\n",
       "      <td>0</td>\n",
       "      <td>0</td>\n",
       "      <td>0</td>\n",
       "      <td>0</td>\n",
       "      <td>0</td>\n",
       "      <td>1</td>\n",
       "      <td>0</td>\n",
       "      <td>0</td>\n",
       "      <td>...</td>\n",
       "      <td>0</td>\n",
       "      <td>0</td>\n",
       "      <td>0</td>\n",
       "      <td>0</td>\n",
       "      <td>0</td>\n",
       "      <td>0</td>\n",
       "      <td>1</td>\n",
       "      <td>0</td>\n",
       "      <td>0</td>\n",
       "      <td>0</td>\n",
       "    </tr>\n",
       "    <tr>\n",
       "      <th>2</th>\n",
       "      <td>0</td>\n",
       "      <td>1</td>\n",
       "      <td>0</td>\n",
       "      <td>0</td>\n",
       "      <td>0</td>\n",
       "      <td>0</td>\n",
       "      <td>0</td>\n",
       "      <td>1</td>\n",
       "      <td>0</td>\n",
       "      <td>0</td>\n",
       "      <td>...</td>\n",
       "      <td>0</td>\n",
       "      <td>0</td>\n",
       "      <td>0</td>\n",
       "      <td>0</td>\n",
       "      <td>0</td>\n",
       "      <td>0</td>\n",
       "      <td>1</td>\n",
       "      <td>0</td>\n",
       "      <td>0</td>\n",
       "      <td>0</td>\n",
       "    </tr>\n",
       "    <tr>\n",
       "      <th>3</th>\n",
       "      <td>0</td>\n",
       "      <td>1</td>\n",
       "      <td>0</td>\n",
       "      <td>0</td>\n",
       "      <td>0</td>\n",
       "      <td>0</td>\n",
       "      <td>0</td>\n",
       "      <td>1</td>\n",
       "      <td>0</td>\n",
       "      <td>0</td>\n",
       "      <td>...</td>\n",
       "      <td>0</td>\n",
       "      <td>0</td>\n",
       "      <td>0</td>\n",
       "      <td>1</td>\n",
       "      <td>0</td>\n",
       "      <td>0</td>\n",
       "      <td>0</td>\n",
       "      <td>0</td>\n",
       "      <td>0</td>\n",
       "      <td>0</td>\n",
       "    </tr>\n",
       "    <tr>\n",
       "      <th>4</th>\n",
       "      <td>0</td>\n",
       "      <td>1</td>\n",
       "      <td>0</td>\n",
       "      <td>0</td>\n",
       "      <td>0</td>\n",
       "      <td>0</td>\n",
       "      <td>0</td>\n",
       "      <td>1</td>\n",
       "      <td>0</td>\n",
       "      <td>0</td>\n",
       "      <td>...</td>\n",
       "      <td>0</td>\n",
       "      <td>0</td>\n",
       "      <td>0</td>\n",
       "      <td>0</td>\n",
       "      <td>0</td>\n",
       "      <td>0</td>\n",
       "      <td>0</td>\n",
       "      <td>0</td>\n",
       "      <td>0</td>\n",
       "      <td>0</td>\n",
       "    </tr>\n",
       "  </tbody>\n",
       "</table>\n",
       "<p>5 rows × 26 columns</p>\n",
       "</div>"
      ],
      "text/plain": [
       "   CAUSA SINIESTRO_ATROPELLO  CAUSA SINIESTRO_COLISION Y/O VUELCO  \\\n",
       "0                          0                                    1   \n",
       "1                          0                                    1   \n",
       "2                          0                                    1   \n",
       "3                          0                                    1   \n",
       "4                          0                                    1   \n",
       "\n",
       "   CAUSA SINIESTRO_DANOS POR LA CARGA  \\\n",
       "0                                   0   \n",
       "1                                   0   \n",
       "2                                   0   \n",
       "3                                   0   \n",
       "4                                   0   \n",
       "\n",
       "   CAUSA SINIESTRO_FENOMENOS DE LA NATURALEZA  \\\n",
       "0                                           0   \n",
       "1                                           0   \n",
       "2                                           0   \n",
       "3                                           0   \n",
       "4                                           0   \n",
       "\n",
       "   CAUSA SINIESTRO_HUELGAS Y ALBOROTOS  \\\n",
       "0                                    0   \n",
       "1                                    0   \n",
       "2                                    0   \n",
       "3                                    0   \n",
       "4                                    0   \n",
       "\n",
       "   CAUSA SINIESTRO_INCENDIO RAYO O EXPLOSION  CAUSA SINIESTRO_TRANSPORTACION  \\\n",
       "0                                          0                               0   \n",
       "1                                          0                               0   \n",
       "2                                          0                               0   \n",
       "3                                          0                               0   \n",
       "4                                          0                               0   \n",
       "\n",
       "   TIPO VEHICULO_Auto  TIPO VEHICULO_Camion  TIPO VEHICULO_Camion Ligero  ...  \\\n",
       "0                   1                     0                            0  ...   \n",
       "1                   1                     0                            0  ...   \n",
       "2                   1                     0                            0  ...   \n",
       "3                   1                     0                            0  ...   \n",
       "4                   1                     0                            0  ...   \n",
       "\n",
       "   PUNTO DE IMPACTO_Costado der central  \\\n",
       "0                                     0   \n",
       "1                                     0   \n",
       "2                                     0   \n",
       "3                                     0   \n",
       "4                                     0   \n",
       "\n",
       "   PUNTO DE IMPACTO_Costado der delantero  \\\n",
       "0                                       0   \n",
       "1                                       0   \n",
       "2                                       0   \n",
       "3                                       0   \n",
       "4                                       0   \n",
       "\n",
       "   PUNTO DE IMPACTO_Costado der trasero  PUNTO DE IMPACTO_Costado izq central  \\\n",
       "0                                     0                                     0   \n",
       "1                                     0                                     0   \n",
       "2                                     0                                     0   \n",
       "3                                     0                                     1   \n",
       "4                                     0                                     0   \n",
       "\n",
       "   PUNTO DE IMPACTO_Costado izq delantero  \\\n",
       "0                                       0   \n",
       "1                                       0   \n",
       "2                                       0   \n",
       "3                                       0   \n",
       "4                                       0   \n",
       "\n",
       "   PUNTO DE IMPACTO_Costado izq trasero  PUNTO DE IMPACTO_Frontal  \\\n",
       "0                                     0                         0   \n",
       "1                                     0                         1   \n",
       "2                                     0                         1   \n",
       "3                                     0                         0   \n",
       "4                                     0                         0   \n",
       "\n",
       "   PUNTO DE IMPACTO_Parte baja  PUNTO DE IMPACTO_Tapa cajuela  \\\n",
       "0                            0                              0   \n",
       "1                            0                              0   \n",
       "2                            0                              0   \n",
       "3                            0                              0   \n",
       "4                            0                              0   \n",
       "\n",
       "   PUNTO DE IMPACTO_Toldo  \n",
       "0                       0  \n",
       "1                       0  \n",
       "2                       0  \n",
       "3                       0  \n",
       "4                       0  \n",
       "\n",
       "[5 rows x 26 columns]"
      ]
     },
     "execution_count": 13,
     "metadata": {},
     "output_type": "execute_result"
    }
   ],
   "source": [
    "x=data.iloc[:,23:49]\n",
    "x.head()"
   ]
  },
  {
   "cell_type": "code",
   "execution_count": 14,
   "metadata": {},
   "outputs": [
    {
     "data": {
      "text/plain": [
       "array([0, 0, 0, ..., 1, 1, 1], dtype=int64)"
      ]
     },
     "execution_count": 14,
     "metadata": {},
     "output_type": "execute_result"
    }
   ],
   "source": [
    "y = data.iloc[:, 4].values\n",
    "y"
   ]
  },
  {
   "cell_type": "markdown",
   "metadata": {},
   "source": [
    "Luego, dividimos los datos en variables dependientes e independientes, así como un conjunto de capacitación y validación para evaluar posteriormente los resultados de nuestro modelo."
   ]
  },
  {
   "cell_type": "markdown",
   "metadata": {},
   "source": [
    "## RandomForestRegressor"
   ]
  },
  {
   "cell_type": "code",
   "execution_count": 15,
   "metadata": {},
   "outputs": [],
   "source": [
    "from sklearn.model_selection import train_test_split\n",
    "\n",
    "x_train, x_test, y_train, y_test = train_test_split(x, y, test_size = 0.20, random_state=42)"
   ]
  },
  {
   "cell_type": "code",
   "execution_count": 16,
   "metadata": {},
   "outputs": [
    {
     "data": {
      "text/plain": [
       "((232700, 26), (58176, 26), (232700,), (58176,))"
      ]
     },
     "execution_count": 16,
     "metadata": {},
     "output_type": "execute_result"
    }
   ],
   "source": [
    "#tamaño de datos\n",
    "x_train.shape, x_test.shape, y_train.shape, y_test.shape"
   ]
  },
  {
   "cell_type": "code",
   "execution_count": 17,
   "metadata": {},
   "outputs": [],
   "source": [
    "def rmse(x,y): return np.sqrt(((x-y)**2).mean())\n",
    "def print_score(m):\n",
    "    res = [rmse(m.predict(x_train), y_train), \n",
    "           rmse(m.predict(x_test), y_test),\n",
    "           m.score(x_train, y_train), \n",
    "           m.score(x_test, y_test)]\n",
    "    \n",
    "    if hasattr(m, 'oob_score_'):res.append(m.oob_score_)\n",
    "    print (res)"
   ]
  },
  {
   "cell_type": "code",
   "execution_count": 18,
   "metadata": {},
   "outputs": [
    {
     "name": "stdout",
     "output_type": "stream",
     "text": [
      "[0.45181386115855154, 0.45234402314168726, 0.18345529730148102, 0.18151320278886196]\n"
     ]
    }
   ],
   "source": [
    "from sklearn.ensemble import RandomForestRegressor\n",
    "m = RandomForestRegressor(n_estimators=50)\n",
    "m.fit(x_train, y_train)\n",
    "print_score(m)\n",
    "#RMSE Train:\n",
    "#RMSE Valid: \n",
    "#Accuracy Train:\n",
    "#Accuracy Valid: "
   ]
  },
  {
   "cell_type": "markdown",
   "metadata": {},
   "source": [
    "# Fin"
   ]
  },
  {
   "cell_type": "markdown",
   "metadata": {},
   "source": [
    "## RandomForest"
   ]
  },
  {
   "cell_type": "code",
   "execution_count": 19,
   "metadata": {},
   "outputs": [],
   "source": [
    "# Importamos el algoritmo\n",
    "from sklearn.ensemble import RandomForestClassifier"
   ]
  },
  {
   "cell_type": "code",
   "execution_count": 20,
   "metadata": {},
   "outputs": [],
   "source": [
    "clf=RandomForestClassifier(n_estimators=100) # Cuantos árboles queremos que entrene\n",
    "\n",
    "clf.fit(x_train,y_train)\n",
    "\n",
    "y_pred=clf.predict(x_test)"
   ]
  },
  {
   "cell_type": "code",
   "execution_count": 21,
   "metadata": {},
   "outputs": [
    {
     "name": "stdout",
     "output_type": "stream",
     "text": [
      "0.6824119911991199\n",
      "[[20080  8843]\n",
      " [ 9633 19620]]\n"
     ]
    }
   ],
   "source": [
    "from sklearn.metrics import classification_report, confusion_matrix, accuracy_score\n",
    "\n",
    "print(accuracy_score(y_test, y_pred))\n",
    "print(confusion_matrix(y_test,y_pred))  "
   ]
  },
  {
   "cell_type": "markdown",
   "metadata": {},
   "source": [
    "### El resultado nos dice que tenemos 20080 + 19620 predicciones correctas y 9633 + 8843 predicciones incorrectas."
   ]
  },
  {
   "cell_type": "code",
   "execution_count": 22,
   "metadata": {},
   "outputs": [
    {
     "name": "stdout",
     "output_type": "stream",
     "text": [
      "              precision    recall  f1-score   support\n",
      "\n",
      "           0       0.68      0.69      0.68     28923\n",
      "           1       0.69      0.67      0.68     29253\n",
      "\n",
      "   micro avg       0.68      0.68      0.68     58176\n",
      "   macro avg       0.68      0.68      0.68     58176\n",
      "weighted avg       0.68      0.68      0.68     58176\n",
      "\n"
     ]
    }
   ],
   "source": [
    "print(classification_report(y_test,y_pred)) "
   ]
  },
  {
   "cell_type": "markdown",
   "metadata": {},
   "source": [
    "# Fin"
   ]
  },
  {
   "cell_type": "markdown",
   "metadata": {},
   "source": [
    "## LogisticRegression"
   ]
  },
  {
   "cell_type": "code",
   "execution_count": 23,
   "metadata": {},
   "outputs": [
    {
     "name": "stderr",
     "output_type": "stream",
     "text": [
      "C:\\Users\\MB87505\\AppData\\Local\\Continuum\\anaconda3\\lib\\site-packages\\sklearn\\linear_model\\logistic.py:433: FutureWarning: Default solver will be changed to 'lbfgs' in 0.22. Specify a solver to silence this warning.\n",
      "  FutureWarning)\n"
     ]
    },
    {
     "data": {
      "text/plain": [
       "LogisticRegression(C=1.0, class_weight=None, dual=False, fit_intercept=True,\n",
       "          intercept_scaling=1, max_iter=100, multi_class='warn',\n",
       "          n_jobs=None, penalty='l2', random_state=None, solver='warn',\n",
       "          tol=0.0001, verbose=0, warm_start=False)"
      ]
     },
     "execution_count": 23,
     "metadata": {},
     "output_type": "execute_result"
    }
   ],
   "source": [
    "from sklearn.linear_model import LogisticRegression\n",
    "from sklearn import metrics\n",
    "x_train, x_test, y_train, y_test = train_test_split(x, y, test_size=0.3, random_state=0)\n",
    "logreg = LogisticRegression()\n",
    "logreg.fit(x_train, y_train)"
   ]
  },
  {
   "cell_type": "code",
   "execution_count": 24,
   "metadata": {},
   "outputs": [
    {
     "name": "stdout",
     "output_type": "stream",
     "text": [
      "Accuracy of logistic regression classifier on test set: 0.68\n"
     ]
    }
   ],
   "source": [
    "y_pred = logreg.predict(x_test)\n",
    "print('Accuracy of logistic regression classifier on test set: {:.2f}'.format(logreg.score(x_test, y_test)))"
   ]
  },
  {
   "cell_type": "code",
   "execution_count": 25,
   "metadata": {},
   "outputs": [
    {
     "name": "stdout",
     "output_type": "stream",
     "text": [
      "[[29266 14451]\n",
      " [13284 30262]]\n"
     ]
    }
   ],
   "source": [
    "from sklearn.metrics import confusion_matrix\n",
    "confusion_matrix = confusion_matrix(y_test, y_pred)\n",
    "print(confusion_matrix)"
   ]
  },
  {
   "cell_type": "markdown",
   "metadata": {},
   "source": [
    "### El resultado nos dice que tenemos 29266 + 30262 predicciones correctas y 13284 + 14451 predicciones incorrectas."
   ]
  },
  {
   "cell_type": "code",
   "execution_count": 26,
   "metadata": {},
   "outputs": [
    {
     "name": "stdout",
     "output_type": "stream",
     "text": [
      "              precision    recall  f1-score   support\n",
      "\n",
      "           0       0.69      0.67      0.68     43717\n",
      "           1       0.68      0.69      0.69     43546\n",
      "\n",
      "   micro avg       0.68      0.68      0.68     87263\n",
      "   macro avg       0.68      0.68      0.68     87263\n",
      "weighted avg       0.68      0.68      0.68     87263\n",
      "\n"
     ]
    }
   ],
   "source": [
    "from sklearn.metrics import classification_report\n",
    "print(classification_report(y_test, y_pred))"
   ]
  },
  {
   "cell_type": "code",
   "execution_count": 27,
   "metadata": {},
   "outputs": [
    {
     "data": {
      "image/png": "[encoded data removed]",
      "text/plain": [
       "<Figure size 432x288 with 1 Axes>"
      ]
     },
     "metadata": {
      "needs_background": "light"
     },
     "output_type": "display_data"
    }
   ],
   "source": [
    "from sklearn.metrics import roc_auc_score\n",
    "from sklearn.metrics import roc_curve\n",
    "logit_roc_auc = roc_auc_score(y_test, logreg.predict(x_test))\n",
    "fpr, tpr, thresholds = roc_curve(y_test, logreg.predict_proba(x_test)[:,1])\n",
    "plt.figure()\n",
    "plt.plot(fpr, tpr, label='Regresión Logistica (area = %0.2f)' % logit_roc_auc)\n",
    "plt.plot([0, 1], [0, 1],'r--')\n",
    "plt.xlim([0.0, 1.0])\n",
    "plt.ylim([0.0, 1.05])\n",
    "plt.xlabel('Tasa positiva falsa')\n",
    "plt.ylabel('Tasa posotiva verdadera')\n",
    "plt.title('Característica de funcionamiento del receptor')\n",
    "plt.legend(loc=\"lower right\")\n",
    "plt.savefig('Log_ROC')\n",
    "plt.show()"
   ]
  },
  {
   "cell_type": "markdown",
   "metadata": {},
   "source": [
    "Una curva característica de funcionamiento del receptor, o curva ROC, es un gráfico que ilustra la capacidad de diagnóstico de un sistema de clasificador binario a medida que varía su umbral de discriminación."
   ]
  },
  {
   "cell_type": "markdown",
   "metadata": {},
   "source": [
    "# Fin"
   ]
  },
  {
   "cell_type": "markdown",
   "metadata": {},
   "source": [
    "-------------------------"
   ]
  }
 ],
 "metadata": {
  "kernelspec": {
   "display_name": "Python 3",
   "language": "python",
   "name": "python3"
  },
  "language_info": {
   "codemirror_mode": {
    "name": "ipython",
    "version": 3
   },
   "file_extension": ".py",
   "mimetype": "text/x-python",
   "name": "python",
   "nbconvert_exporter": "python",
   "pygments_lexer": "ipython3",
   "version": "3.7.3"
  }
 },
 "nbformat": 4,
 "nbformat_minor": 2
}
